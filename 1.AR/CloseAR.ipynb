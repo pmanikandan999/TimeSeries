{
 "cells": [
  {
   "cell_type": "code",
   "execution_count": 1,
   "id": "c94135fd",
   "metadata": {},
   "outputs": [],
   "source": [
    "import pandas as pd"
   ]
  },
  {
   "cell_type": "code",
   "execution_count": 9,
   "id": "2eda42a5",
   "metadata": {},
   "outputs": [],
   "source": [
    "#!pip install scikit-learn\n",
    "#!pip install statsmodels\n",
    "#!pip install nsepy"
   ]
  },
  {
   "cell_type": "code",
   "execution_count": 10,
   "id": "70f138f7",
   "metadata": {},
   "outputs": [],
   "source": [
    "from nsepy import get_history as gh\n",
    "import datetime as dt"
   ]
  },
  {
   "cell_type": "code",
   "execution_count": 18,
   "id": "2796d806",
   "metadata": {},
   "outputs": [
    {
     "ename": "AttributeError",
     "evalue": "'function' object has no attribute 'download'",
     "output_type": "error",
     "traceback": [
      "\u001b[1;31m---------------------------------------------------------------------------\u001b[0m",
      "\u001b[1;31mAttributeError\u001b[0m                            Traceback (most recent call last)",
      "Cell \u001b[1;32mIn[18], line 10\u001b[0m\n\u001b[0;32m      7\u001b[0m \u001b[38;5;66;03m#symbol=\"TATACOFFEE.EQ\"\u001b[39;00m\n\u001b[0;32m      8\u001b[0m symbol\u001b[38;5;241m=\u001b[39m\u001b[38;5;124m\"\u001b[39m\u001b[38;5;124mAXISBANK.NS\u001b[39m\u001b[38;5;124m\"\u001b[39m\n\u001b[1;32m---> 10\u001b[0m stk_data \u001b[38;5;241m=\u001b[39m \u001b[43mgh\u001b[49m\u001b[38;5;241;43m.\u001b[39;49m\u001b[43mdownload\u001b[49m(symbol, start\u001b[38;5;241m=\u001b[39mstart, end\u001b[38;5;241m=\u001b[39mend)\n\u001b[0;32m     11\u001b[0m stk_data\n",
      "\u001b[1;31mAttributeError\u001b[0m: 'function' object has no attribute 'download'"
     ]
    }
   ],
   "source": [
    "start = dt.datetime(2021,7,1)\n",
    "end = dt.datetime(2022,1,28)\n",
    "stk_data = gh(symbol='TATACOFFEE',start=start,end=end)\n"
   ]
  },
  {
   "cell_type": "code",
   "execution_count": 14,
   "id": "a876eef9",
   "metadata": {},
   "outputs": [
    {
     "data": {
      "text/html": [
       "<div>\n",
       "<style scoped>\n",
       "    .dataframe tbody tr th:only-of-type {\n",
       "        vertical-align: middle;\n",
       "    }\n",
       "\n",
       "    .dataframe tbody tr th {\n",
       "        vertical-align: top;\n",
       "    }\n",
       "\n",
       "    .dataframe thead th {\n",
       "        text-align: right;\n",
       "    }\n",
       "</style>\n",
       "<table border=\"1\" class=\"dataframe\">\n",
       "  <thead>\n",
       "    <tr style=\"text-align: right;\">\n",
       "      <th></th>\n",
       "      <th>Symbol</th>\n",
       "      <th>Series</th>\n",
       "      <th>Prev Close</th>\n",
       "      <th>Open</th>\n",
       "      <th>High</th>\n",
       "      <th>Low</th>\n",
       "      <th>Last</th>\n",
       "      <th>Close</th>\n",
       "      <th>VWAP</th>\n",
       "      <th>Volume</th>\n",
       "      <th>Turnover</th>\n",
       "      <th>Trades</th>\n",
       "      <th>Deliverable Volume</th>\n",
       "      <th>%Deliverble</th>\n",
       "    </tr>\n",
       "    <tr>\n",
       "      <th>Date</th>\n",
       "      <th></th>\n",
       "      <th></th>\n",
       "      <th></th>\n",
       "      <th></th>\n",
       "      <th></th>\n",
       "      <th></th>\n",
       "      <th></th>\n",
       "      <th></th>\n",
       "      <th></th>\n",
       "      <th></th>\n",
       "      <th></th>\n",
       "      <th></th>\n",
       "      <th></th>\n",
       "      <th></th>\n",
       "    </tr>\n",
       "  </thead>\n",
       "  <tbody>\n",
       "  </tbody>\n",
       "</table>\n",
       "</div>"
      ],
      "text/plain": [
       "Empty DataFrame\n",
       "Columns: [Symbol, Series, Prev Close, Open, High, Low, Last, Close, VWAP, Volume, Turnover, Trades, Deliverable Volume, %Deliverble]\n",
       "Index: []"
      ]
     },
     "execution_count": 14,
     "metadata": {},
     "output_type": "execute_result"
    }
   ],
   "source": [
    "stk_data"
   ]
  },
  {
   "cell_type": "code",
   "execution_count": null,
   "id": "c8184d81",
   "metadata": {},
   "outputs": [],
   "source": []
  },
  {
   "cell_type": "code",
   "execution_count": 5,
   "id": "24d6ee5a",
   "metadata": {},
   "outputs": [],
   "source": [
    "stk_data=stk_data[[\"Open\",\"High\",\"Low\",\"Close\"]]\n"
   ]
  },
  {
   "cell_type": "code",
   "execution_count": 6,
   "id": "75c2b995",
   "metadata": {},
   "outputs": [
    {
     "data": {
      "text/html": [
       "<div>\n",
       "<style scoped>\n",
       "    .dataframe tbody tr th:only-of-type {\n",
       "        vertical-align: middle;\n",
       "    }\n",
       "\n",
       "    .dataframe tbody tr th {\n",
       "        vertical-align: top;\n",
       "    }\n",
       "\n",
       "    .dataframe thead th {\n",
       "        text-align: right;\n",
       "    }\n",
       "</style>\n",
       "<table border=\"1\" class=\"dataframe\">\n",
       "  <thead>\n",
       "    <tr style=\"text-align: right;\">\n",
       "      <th></th>\n",
       "      <th>Open</th>\n",
       "      <th>High</th>\n",
       "      <th>Low</th>\n",
       "      <th>Close</th>\n",
       "    </tr>\n",
       "    <tr>\n",
       "      <th>Date</th>\n",
       "      <th></th>\n",
       "      <th></th>\n",
       "      <th></th>\n",
       "      <th></th>\n",
       "    </tr>\n",
       "  </thead>\n",
       "  <tbody>\n",
       "    <tr>\n",
       "      <th>2021-07-01</th>\n",
       "      <td>188.60</td>\n",
       "      <td>189.00</td>\n",
       "      <td>183.00</td>\n",
       "      <td>184.55</td>\n",
       "    </tr>\n",
       "    <tr>\n",
       "      <th>2021-07-02</th>\n",
       "      <td>183.05</td>\n",
       "      <td>187.50</td>\n",
       "      <td>182.15</td>\n",
       "      <td>186.40</td>\n",
       "    </tr>\n",
       "    <tr>\n",
       "      <th>2021-07-05</th>\n",
       "      <td>187.85</td>\n",
       "      <td>198.35</td>\n",
       "      <td>187.85</td>\n",
       "      <td>192.45</td>\n",
       "    </tr>\n",
       "    <tr>\n",
       "      <th>2021-07-06</th>\n",
       "      <td>193.80</td>\n",
       "      <td>194.80</td>\n",
       "      <td>187.35</td>\n",
       "      <td>188.80</td>\n",
       "    </tr>\n",
       "    <tr>\n",
       "      <th>2021-07-07</th>\n",
       "      <td>187.80</td>\n",
       "      <td>193.95</td>\n",
       "      <td>185.40</td>\n",
       "      <td>192.85</td>\n",
       "    </tr>\n",
       "    <tr>\n",
       "      <th>...</th>\n",
       "      <td>...</td>\n",
       "      <td>...</td>\n",
       "      <td>...</td>\n",
       "      <td>...</td>\n",
       "    </tr>\n",
       "    <tr>\n",
       "      <th>2022-01-21</th>\n",
       "      <td>217.70</td>\n",
       "      <td>224.40</td>\n",
       "      <td>216.70</td>\n",
       "      <td>219.55</td>\n",
       "    </tr>\n",
       "    <tr>\n",
       "      <th>2022-01-24</th>\n",
       "      <td>218.00</td>\n",
       "      <td>220.00</td>\n",
       "      <td>205.20</td>\n",
       "      <td>208.00</td>\n",
       "    </tr>\n",
       "    <tr>\n",
       "      <th>2022-01-25</th>\n",
       "      <td>207.50</td>\n",
       "      <td>213.70</td>\n",
       "      <td>200.00</td>\n",
       "      <td>211.90</td>\n",
       "    </tr>\n",
       "    <tr>\n",
       "      <th>2022-01-27</th>\n",
       "      <td>209.95</td>\n",
       "      <td>215.50</td>\n",
       "      <td>208.15</td>\n",
       "      <td>213.15</td>\n",
       "    </tr>\n",
       "    <tr>\n",
       "      <th>2022-01-28</th>\n",
       "      <td>214.85</td>\n",
       "      <td>225.70</td>\n",
       "      <td>210.00</td>\n",
       "      <td>212.40</td>\n",
       "    </tr>\n",
       "  </tbody>\n",
       "</table>\n",
       "<p>145 rows × 4 columns</p>\n",
       "</div>"
      ],
      "text/plain": [
       "              Open    High     Low   Close\n",
       "Date                                      \n",
       "2021-07-01  188.60  189.00  183.00  184.55\n",
       "2021-07-02  183.05  187.50  182.15  186.40\n",
       "2021-07-05  187.85  198.35  187.85  192.45\n",
       "2021-07-06  193.80  194.80  187.35  188.80\n",
       "2021-07-07  187.80  193.95  185.40  192.85\n",
       "...            ...     ...     ...     ...\n",
       "2022-01-21  217.70  224.40  216.70  219.55\n",
       "2022-01-24  218.00  220.00  205.20  208.00\n",
       "2022-01-25  207.50  213.70  200.00  211.90\n",
       "2022-01-27  209.95  215.50  208.15  213.15\n",
       "2022-01-28  214.85  225.70  210.00  212.40\n",
       "\n",
       "[145 rows x 4 columns]"
      ]
     },
     "execution_count": 6,
     "metadata": {},
     "output_type": "execute_result"
    }
   ],
   "source": [
    "stk_data"
   ]
  },
  {
   "cell_type": "code",
   "execution_count": 7,
   "id": "8dfa058b",
   "metadata": {},
   "outputs": [],
   "source": [
    "column=\"Close\""
   ]
  },
  {
   "cell_type": "code",
   "execution_count": 8,
   "id": "e02924c0",
   "metadata": {},
   "outputs": [
    {
     "name": "stdout",
     "output_type": "stream",
     "text": [
      "Len: (145, 1)\n"
     ]
    }
   ],
   "source": [
    "from sklearn.preprocessing import MinMaxScaler\n",
    "Ms = MinMaxScaler()\n",
    "data1= Ms.fit_transform(stk_data[[column]])\n",
    "print(\"Len:\",data1.shape)"
   ]
  },
  {
   "cell_type": "code",
   "execution_count": 9,
   "id": "554d7e15",
   "metadata": {},
   "outputs": [
    {
     "data": {
      "text/plain": [
       "145"
      ]
     },
     "execution_count": 9,
     "metadata": {},
     "output_type": "execute_result"
    }
   ],
   "source": [
    "len(data1)"
   ]
  },
  {
   "cell_type": "code",
   "execution_count": 11,
   "id": "3b7d1fef",
   "metadata": {},
   "outputs": [
    {
     "name": "stdout",
     "output_type": "stream",
     "text": [
      "116\n",
      "X_train length: (116, 1)\n",
      "X_test length: (29, 1)\n",
      "y_train length: (116, 1)\n",
      "y_test length: (29, 1)\n"
     ]
    }
   ],
   "source": [
    "training_size = round(len(data1 ) * 0.80)\n",
    "print(training_size)\n",
    "X_train=data1[:training_size]\n",
    "X_test=data1[training_size:]\n",
    "print(\"X_train length:\",X_train.shape)\n",
    "print(\"X_test length:\",X_test.shape)\n",
    "y_train=data1[:training_size]\n",
    "y_test=data1[training_size:]\n",
    "print(\"y_train length:\",y_train.shape)\n",
    "print(\"y_test length:\",y_test.shape)"
   ]
  },
  {
   "cell_type": "code",
   "execution_count": null,
   "id": "ab2c10e9",
   "metadata": {},
   "outputs": [],
   "source": []
  },
  {
   "cell_type": "code",
   "execution_count": 12,
   "id": "616334c0",
   "metadata": {
    "scrolled": true
   },
   "outputs": [
    {
     "name": "stderr",
     "output_type": "stream",
     "text": [
      "C:\\Anaconda3\\envs\\ML\\lib\\site-packages\\statsmodels\\tsa\\ar_model.py:252: FutureWarning: The parameter names will change after 0.12 is released. Set old_names to False to use the new names now. Set old_names to True to use the old names. \n",
      "  FutureWarning,\n",
      "C:\\Anaconda3\\envs\\ML\\lib\\site-packages\\statsmodels\\tsa\\ar_model.py:252: FutureWarning: The parameter names will change after 0.12 is released. Set old_names to False to use the new names now. Set old_names to True to use the old names. \n",
      "  FutureWarning,\n",
      "C:\\Anaconda3\\envs\\ML\\lib\\site-packages\\statsmodels\\tsa\\ar_model.py:252: FutureWarning: The parameter names will change after 0.12 is released. Set old_names to False to use the new names now. Set old_names to True to use the old names. \n",
      "  FutureWarning,\n",
      "C:\\Anaconda3\\envs\\ML\\lib\\site-packages\\statsmodels\\tsa\\ar_model.py:252: FutureWarning: The parameter names will change after 0.12 is released. Set old_names to False to use the new names now. Set old_names to True to use the old names. \n",
      "  FutureWarning,\n",
      "C:\\Anaconda3\\envs\\ML\\lib\\site-packages\\statsmodels\\tsa\\ar_model.py:252: FutureWarning: The parameter names will change after 0.12 is released. Set old_names to False to use the new names now. Set old_names to True to use the old names. \n",
      "  FutureWarning,\n",
      "C:\\Anaconda3\\envs\\ML\\lib\\site-packages\\statsmodels\\tsa\\ar_model.py:252: FutureWarning: The parameter names will change after 0.12 is released. Set old_names to False to use the new names now. Set old_names to True to use the old names. \n",
      "  FutureWarning,\n"
     ]
    },
    {
     "name": "stdout",
     "output_type": "stream",
     "text": [
      "Lag=1,Trend=n\n",
      "RMSE-Testset: 0.2868932436955159\n",
      "maPe-Testset: 0.43360580238884344\n",
      "************\n",
      "Lag=1,Trend=t\n",
      "RMSE-Testset: 0.16951470088008333\n",
      "maPe-Testset: 0.2820005995613298\n",
      "************\n",
      "Lag=1,Trend=c\n",
      "RMSE-Testset: 0.13337394703457145\n",
      "maPe-Testset: 0.21339999411720598\n",
      "************\n",
      "Lag=1,Trend=ct\n",
      "RMSE-Testset: 0.09179414121321361\n",
      "maPe-Testset: 0.15736863641062923\n",
      "************\n",
      "Lag=2,Trend=n\n",
      "RMSE-Testset: 0.2894803633642015\n",
      "maPe-Testset: 0.4373136510183856\n",
      "************\n",
      "Lag=2,Trend=t\n",
      "RMSE-Testset: 0.18603860814066706\n",
      "maPe-Testset: 0.31337835737364317\n",
      "************\n",
      "Lag=2,Trend=c\n",
      "RMSE-Testset:"
     ]
    },
    {
     "name": "stderr",
     "output_type": "stream",
     "text": [
      "C:\\Anaconda3\\envs\\ML\\lib\\site-packages\\statsmodels\\tsa\\ar_model.py:252: FutureWarning: The parameter names will change after 0.12 is released. Set old_names to False to use the new names now. Set old_names to True to use the old names. \n",
      "  FutureWarning,\n",
      "C:\\Anaconda3\\envs\\ML\\lib\\site-packages\\statsmodels\\tsa\\ar_model.py:252: FutureWarning: The parameter names will change after 0.12 is released. Set old_names to False to use the new names now. Set old_names to True to use the old names. \n",
      "  FutureWarning,\n",
      "C:\\Anaconda3\\envs\\ML\\lib\\site-packages\\statsmodels\\tsa\\ar_model.py:252: FutureWarning: The parameter names will change after 0.12 is released. Set old_names to False to use the new names now. Set old_names to True to use the old names. \n",
      "  FutureWarning,\n",
      "C:\\Anaconda3\\envs\\ML\\lib\\site-packages\\statsmodels\\tsa\\ar_model.py:252: FutureWarning: The parameter names will change after 0.12 is released. Set old_names to False to use the new names now. Set old_names to True to use the old names. \n",
      "  FutureWarning,\n",
      "C:\\Anaconda3\\envs\\ML\\lib\\site-packages\\statsmodels\\tsa\\ar_model.py:252: FutureWarning: The parameter names will change after 0.12 is released. Set old_names to False to use the new names now. Set old_names to True to use the old names. \n",
      "  FutureWarning,\n",
      "C:\\Anaconda3\\envs\\ML\\lib\\site-packages\\statsmodels\\tsa\\ar_model.py:252: FutureWarning: The parameter names will change after 0.12 is released. Set old_names to False to use the new names now. Set old_names to True to use the old names. \n",
      "  FutureWarning,\n"
     ]
    },
    {
     "name": "stdout",
     "output_type": "stream",
     "text": [
      " 0.13234107370949924\n",
      "maPe-Testset: 0.21130155290632857\n",
      "************\n",
      "Lag=2,Trend=ct\n",
      "RMSE-Testset: 0.09758453779681193\n",
      "maPe-Testset: 0.1685376607810605\n",
      "************\n",
      "Lag=3,Trend=n\n",
      "RMSE-Testset: 0.262889996439986\n",
      "maPe-Testset: 0.4013835659941446\n",
      "************\n",
      "Lag=3,Trend=t\n",
      "RMSE-Testset: 0.1642292911333264\n",
      "maPe-Testset: 0.2734369277895719\n",
      "************\n",
      "Lag=3,Trend=c\n",
      "RMSE-Testset: 0.13429852014219743\n",
      "maPe-Testset: 0.2155624769921304\n",
      "************\n",
      "Lag=3,Trend=ct\n",
      "RMSE-Testset: 0.09595180044126173\n",
      "maPe-Testset: 0.16470129672138936\n",
      "************\n",
      "Lag=4,Trend=n\n",
      "RMSE-Testset: 0.27312201756270066\n",
      "maPe-Testset: 0.41532397973372415\n",
      "************\n",
      "Lag=4,Trend=t\n",
      "RMSE-Testset: 0.18556064961617738\n",
      "maPe-Testset: 0.3114623093719079\n",
      "************\n",
      "Lag=4,Trend=c\n",
      "RMSE-Testset: 0.13008006367125116\n",
      "maPe-Testset: 0.20705814455179922\n",
      "************\n",
      "Lag=4,Trend=ct\n",
      "RMSE-Testset: 0.09991375975212799\n",
      "maPe-Testset: 0.17278333609640872\n",
      "************\n"
     ]
    },
    {
     "name": "stderr",
     "output_type": "stream",
     "text": [
      "C:\\Anaconda3\\envs\\ML\\lib\\site-packages\\statsmodels\\tsa\\ar_model.py:252: FutureWarning: The parameter names will change after 0.12 is released. Set old_names to False to use the new names now. Set old_names to True to use the old names. \n",
      "  FutureWarning,\n",
      "C:\\Anaconda3\\envs\\ML\\lib\\site-packages\\statsmodels\\tsa\\ar_model.py:252: FutureWarning: The parameter names will change after 0.12 is released. Set old_names to False to use the new names now. Set old_names to True to use the old names. \n",
      "  FutureWarning,\n",
      "C:\\Anaconda3\\envs\\ML\\lib\\site-packages\\statsmodels\\tsa\\ar_model.py:252: FutureWarning: The parameter names will change after 0.12 is released. Set old_names to False to use the new names now. Set old_names to True to use the old names. \n",
      "  FutureWarning,\n",
      "C:\\Anaconda3\\envs\\ML\\lib\\site-packages\\statsmodels\\tsa\\ar_model.py:252: FutureWarning: The parameter names will change after 0.12 is released. Set old_names to False to use the new names now. Set old_names to True to use the old names. \n",
      "  FutureWarning,\n"
     ]
    }
   ],
   "source": [
    "from sklearn.metrics import mean_squared_error\n",
    "trends=['n','t','c','ct']\n",
    "lags=[1,2,3,4]\n",
    "from statsmodels.tsa.ar_model import AutoReg\n",
    "for i in lags:\n",
    "    #print(i)\n",
    "   \n",
    "    for td in trends:\n",
    "        \n",
    "        #print(td)\n",
    "        #trendslist.append(td)\n",
    "        model = AutoReg(X_train, lags=i,trend=td)\n",
    "        model_fit = model.fit()\n",
    "        # make prediction\n",
    "        y_pred= model_fit.predict(len(X_train), len(data1)-1)\n",
    "        #print(y_pred)\n",
    "        #mse=mean_squared_error(y_test,y_pred,squared=False)\n",
    "        from stockFunctions import rmsemape\n",
    "        print(\"Lag={},Trend={}\".format(i,td))\n",
    "        rmsemape(y_test,y_pred)\n",
    "        print(\"************\")"
   ]
  },
  {
   "cell_type": "code",
   "execution_count": 13,
   "id": "73a854e0",
   "metadata": {},
   "outputs": [
    {
     "data": {
      "text/plain": [
       "29"
      ]
     },
     "execution_count": 13,
     "metadata": {},
     "output_type": "execute_result"
    }
   ],
   "source": [
    "len(y_pred)"
   ]
  },
  {
   "cell_type": "code",
   "execution_count": 16,
   "id": "1058851c",
   "metadata": {},
   "outputs": [
    {
     "name": "stdout",
     "output_type": "stream",
     "text": [
      "Lag=1,Trend=ct\n",
      "RMSE-Testset: 0.09179414121321361\n",
      "maPe-Testset: 0.15736863641062923\n",
      "************\n"
     ]
    },
    {
     "name": "stderr",
     "output_type": "stream",
     "text": [
      "C:\\Anaconda3\\envs\\ML\\lib\\site-packages\\statsmodels\\tsa\\ar_model.py:252: FutureWarning: The parameter names will change after 0.12 is released. Set old_names to False to use the new names now. Set old_names to True to use the old names. \n",
      "  FutureWarning,\n"
     ]
    }
   ],
   "source": [
    "i=1\n",
    "td='ct'\n",
    "model = AutoReg(X_train, lags=i,trend=td)\n",
    "model_fit = model.fit()\n",
    "# make prediction\n",
    "y_pred= model_fit.predict(len(X_train), len(data1)-1)\n",
    "#print(y_pred)\n",
    "from sklearn.metrics import r2_score\n",
    "mse=mean_squared_error(y_test,y_pred,squared=False)\n",
    "from stockFunctions import rmsemape\n",
    "print(\"Lag={},Trend={}\".format(i,td))\n",
    "rmsemape(y_test,y_pred)\n",
    "print(\"************\")"
   ]
  },
  {
   "cell_type": "code",
   "execution_count": 17,
   "id": "0c99d6a9",
   "metadata": {
    "scrolled": true
   },
   "outputs": [
    {
     "data": {
      "image/png": "[encoded data removed]",
      "text/plain": [
       "<Figure size 720x360 with 1 Axes>"
      ]
     },
     "metadata": {
      "needs_background": "light"
     },
     "output_type": "display_data"
    }
   ],
   "source": [
    "from stockFunctions import graph\n",
    "graph(y_test,y_pred,\"Actual\",\"Predicted\",\"TataCoffee-Close-AR-Norm\",\"Days\",\"Prices\")"
   ]
  },
  {
   "cell_type": "code",
   "execution_count": 18,
   "id": "c5f9b793",
   "metadata": {},
   "outputs": [
    {
     "data": {
      "text/plain": [
       "145"
      ]
     },
     "execution_count": 18,
     "metadata": {},
     "output_type": "execute_result"
    }
   ],
   "source": [
    "len(data1)"
   ]
  },
  {
   "cell_type": "code",
   "execution_count": 19,
   "id": "e4454779",
   "metadata": {},
   "outputs": [
    {
     "data": {
      "text/plain": [
       "array([[0.23752311],\n",
       "       [0.33179298],\n",
       "       [0.43068392],\n",
       "       [0.39279113],\n",
       "       [0.35674677],\n",
       "       [0.67744917],\n",
       "       [0.56654344],\n",
       "       [0.54805915],\n",
       "       [0.49537893],\n",
       "       [0.58133087],\n",
       "       [0.59796673],\n",
       "       [0.66728281],\n",
       "       [0.61275416],\n",
       "       [0.5961183 ],\n",
       "       [0.58225508],\n",
       "       [0.62754159],\n",
       "       [0.67005545],\n",
       "       [0.67837338],\n",
       "       [0.68299445],\n",
       "       [0.71256932],\n",
       "       [0.73475046],\n",
       "       [0.66913124],\n",
       "       [0.66913124],\n",
       "       [0.70240296],\n",
       "       [0.69963031],\n",
       "       [0.48613678],\n",
       "       [0.55822551],\n",
       "       [0.58133087],\n",
       "       [0.56746765]])"
      ]
     },
     "execution_count": 19,
     "metadata": {},
     "output_type": "execute_result"
    }
   ],
   "source": [
    "y_test"
   ]
  },
  {
   "cell_type": "code",
   "execution_count": 20,
   "id": "627e2044",
   "metadata": {},
   "outputs": [],
   "source": [
    "from stockFunctions import conversionSingle\n",
    "aTestNormTable=conversionSingle(y_test,[column])"
   ]
  },
  {
   "cell_type": "code",
   "execution_count": 21,
   "id": "ead3201b",
   "metadata": {},
   "outputs": [
    {
     "data": {
      "text/html": [
       "<div>\n",
       "<style scoped>\n",
       "    .dataframe tbody tr th:only-of-type {\n",
       "        vertical-align: middle;\n",
       "    }\n",
       "\n",
       "    .dataframe tbody tr th {\n",
       "        vertical-align: top;\n",
       "    }\n",
       "\n",
       "    .dataframe thead th {\n",
       "        text-align: right;\n",
       "    }\n",
       "</style>\n",
       "<table border=\"1\" class=\"dataframe\">\n",
       "  <thead>\n",
       "    <tr style=\"text-align: right;\">\n",
       "      <th></th>\n",
       "      <th>Close</th>\n",
       "    </tr>\n",
       "  </thead>\n",
       "  <tbody>\n",
       "    <tr>\n",
       "      <th>0</th>\n",
       "      <td>0.237523</td>\n",
       "    </tr>\n",
       "    <tr>\n",
       "      <th>1</th>\n",
       "      <td>0.331793</td>\n",
       "    </tr>\n",
       "    <tr>\n",
       "      <th>2</th>\n",
       "      <td>0.430684</td>\n",
       "    </tr>\n",
       "    <tr>\n",
       "      <th>3</th>\n",
       "      <td>0.392791</td>\n",
       "    </tr>\n",
       "    <tr>\n",
       "      <th>4</th>\n",
       "      <td>0.356747</td>\n",
       "    </tr>\n",
       "    <tr>\n",
       "      <th>5</th>\n",
       "      <td>0.677449</td>\n",
       "    </tr>\n",
       "    <tr>\n",
       "      <th>6</th>\n",
       "      <td>0.566543</td>\n",
       "    </tr>\n",
       "    <tr>\n",
       "      <th>7</th>\n",
       "      <td>0.548059</td>\n",
       "    </tr>\n",
       "    <tr>\n",
       "      <th>8</th>\n",
       "      <td>0.495379</td>\n",
       "    </tr>\n",
       "    <tr>\n",
       "      <th>9</th>\n",
       "      <td>0.581331</td>\n",
       "    </tr>\n",
       "    <tr>\n",
       "      <th>10</th>\n",
       "      <td>0.597967</td>\n",
       "    </tr>\n",
       "    <tr>\n",
       "      <th>11</th>\n",
       "      <td>0.667283</td>\n",
       "    </tr>\n",
       "    <tr>\n",
       "      <th>12</th>\n",
       "      <td>0.612754</td>\n",
       "    </tr>\n",
       "    <tr>\n",
       "      <th>13</th>\n",
       "      <td>0.596118</td>\n",
       "    </tr>\n",
       "    <tr>\n",
       "      <th>14</th>\n",
       "      <td>0.582255</td>\n",
       "    </tr>\n",
       "    <tr>\n",
       "      <th>15</th>\n",
       "      <td>0.627542</td>\n",
       "    </tr>\n",
       "    <tr>\n",
       "      <th>16</th>\n",
       "      <td>0.670055</td>\n",
       "    </tr>\n",
       "    <tr>\n",
       "      <th>17</th>\n",
       "      <td>0.678373</td>\n",
       "    </tr>\n",
       "    <tr>\n",
       "      <th>18</th>\n",
       "      <td>0.682994</td>\n",
       "    </tr>\n",
       "    <tr>\n",
       "      <th>19</th>\n",
       "      <td>0.712569</td>\n",
       "    </tr>\n",
       "    <tr>\n",
       "      <th>20</th>\n",
       "      <td>0.73475</td>\n",
       "    </tr>\n",
       "    <tr>\n",
       "      <th>21</th>\n",
       "      <td>0.669131</td>\n",
       "    </tr>\n",
       "    <tr>\n",
       "      <th>22</th>\n",
       "      <td>0.669131</td>\n",
       "    </tr>\n",
       "    <tr>\n",
       "      <th>23</th>\n",
       "      <td>0.702403</td>\n",
       "    </tr>\n",
       "    <tr>\n",
       "      <th>24</th>\n",
       "      <td>0.69963</td>\n",
       "    </tr>\n",
       "    <tr>\n",
       "      <th>25</th>\n",
       "      <td>0.486137</td>\n",
       "    </tr>\n",
       "    <tr>\n",
       "      <th>26</th>\n",
       "      <td>0.558226</td>\n",
       "    </tr>\n",
       "    <tr>\n",
       "      <th>27</th>\n",
       "      <td>0.581331</td>\n",
       "    </tr>\n",
       "    <tr>\n",
       "      <th>28</th>\n",
       "      <td>0.567468</td>\n",
       "    </tr>\n",
       "  </tbody>\n",
       "</table>\n",
       "</div>"
      ],
      "text/plain": [
       "       Close\n",
       "0   0.237523\n",
       "1   0.331793\n",
       "2   0.430684\n",
       "3   0.392791\n",
       "4   0.356747\n",
       "5   0.677449\n",
       "6   0.566543\n",
       "7   0.548059\n",
       "8   0.495379\n",
       "9   0.581331\n",
       "10  0.597967\n",
       "11  0.667283\n",
       "12  0.612754\n",
       "13  0.596118\n",
       "14  0.582255\n",
       "15  0.627542\n",
       "16  0.670055\n",
       "17  0.678373\n",
       "18  0.682994\n",
       "19  0.712569\n",
       "20   0.73475\n",
       "21  0.669131\n",
       "22  0.669131\n",
       "23  0.702403\n",
       "24   0.69963\n",
       "25  0.486137\n",
       "26  0.558226\n",
       "27  0.581331\n",
       "28  0.567468"
      ]
     },
     "execution_count": 21,
     "metadata": {},
     "output_type": "execute_result"
    }
   ],
   "source": [
    "aTestNormTable"
   ]
  },
  {
   "cell_type": "code",
   "execution_count": 22,
   "id": "59016262",
   "metadata": {},
   "outputs": [],
   "source": [
    "actual_stock_price_test_ori=Ms.inverse_transform(aTestNormTable)"
   ]
  },
  {
   "cell_type": "code",
   "execution_count": 23,
   "id": "b394a59f",
   "metadata": {},
   "outputs": [
    {
     "data": {
      "text/plain": [
       "array([[194.55],\n",
       "       [199.65],\n",
       "       [205.  ],\n",
       "       [202.95],\n",
       "       [201.  ],\n",
       "       [218.35],\n",
       "       [212.35],\n",
       "       [211.35],\n",
       "       [208.5 ],\n",
       "       [213.15],\n",
       "       [214.05],\n",
       "       [217.8 ],\n",
       "       [214.85],\n",
       "       [213.95],\n",
       "       [213.2 ],\n",
       "       [215.65],\n",
       "       [217.95],\n",
       "       [218.4 ],\n",
       "       [218.65],\n",
       "       [220.25],\n",
       "       [221.45],\n",
       "       [217.9 ],\n",
       "       [217.9 ],\n",
       "       [219.7 ],\n",
       "       [219.55],\n",
       "       [208.  ],\n",
       "       [211.9 ],\n",
       "       [213.15],\n",
       "       [212.4 ]])"
      ]
     },
     "execution_count": 23,
     "metadata": {},
     "output_type": "execute_result"
    }
   ],
   "source": [
    "actual_stock_price_test_ori"
   ]
  },
  {
   "cell_type": "code",
   "execution_count": 24,
   "id": "ca8dfb08",
   "metadata": {},
   "outputs": [],
   "source": [
    "actual_stock_price_test_oriA=conversionSingle(actual_stock_price_test_ori,[column])"
   ]
  },
  {
   "cell_type": "code",
   "execution_count": 25,
   "id": "ffa4bafe",
   "metadata": {},
   "outputs": [
    {
     "data": {
      "text/html": [
       "<div>\n",
       "<style scoped>\n",
       "    .dataframe tbody tr th:only-of-type {\n",
       "        vertical-align: middle;\n",
       "    }\n",
       "\n",
       "    .dataframe tbody tr th {\n",
       "        vertical-align: top;\n",
       "    }\n",
       "\n",
       "    .dataframe thead th {\n",
       "        text-align: right;\n",
       "    }\n",
       "</style>\n",
       "<table border=\"1\" class=\"dataframe\">\n",
       "  <thead>\n",
       "    <tr style=\"text-align: right;\">\n",
       "      <th></th>\n",
       "      <th>Close</th>\n",
       "    </tr>\n",
       "  </thead>\n",
       "  <tbody>\n",
       "    <tr>\n",
       "      <th>0</th>\n",
       "      <td>194.55</td>\n",
       "    </tr>\n",
       "    <tr>\n",
       "      <th>1</th>\n",
       "      <td>199.65</td>\n",
       "    </tr>\n",
       "    <tr>\n",
       "      <th>2</th>\n",
       "      <td>205</td>\n",
       "    </tr>\n",
       "    <tr>\n",
       "      <th>3</th>\n",
       "      <td>202.95</td>\n",
       "    </tr>\n",
       "    <tr>\n",
       "      <th>4</th>\n",
       "      <td>201</td>\n",
       "    </tr>\n",
       "    <tr>\n",
       "      <th>5</th>\n",
       "      <td>218.35</td>\n",
       "    </tr>\n",
       "    <tr>\n",
       "      <th>6</th>\n",
       "      <td>212.35</td>\n",
       "    </tr>\n",
       "    <tr>\n",
       "      <th>7</th>\n",
       "      <td>211.35</td>\n",
       "    </tr>\n",
       "    <tr>\n",
       "      <th>8</th>\n",
       "      <td>208.5</td>\n",
       "    </tr>\n",
       "    <tr>\n",
       "      <th>9</th>\n",
       "      <td>213.15</td>\n",
       "    </tr>\n",
       "    <tr>\n",
       "      <th>10</th>\n",
       "      <td>214.05</td>\n",
       "    </tr>\n",
       "    <tr>\n",
       "      <th>11</th>\n",
       "      <td>217.8</td>\n",
       "    </tr>\n",
       "    <tr>\n",
       "      <th>12</th>\n",
       "      <td>214.85</td>\n",
       "    </tr>\n",
       "    <tr>\n",
       "      <th>13</th>\n",
       "      <td>213.95</td>\n",
       "    </tr>\n",
       "    <tr>\n",
       "      <th>14</th>\n",
       "      <td>213.2</td>\n",
       "    </tr>\n",
       "    <tr>\n",
       "      <th>15</th>\n",
       "      <td>215.65</td>\n",
       "    </tr>\n",
       "    <tr>\n",
       "      <th>16</th>\n",
       "      <td>217.95</td>\n",
       "    </tr>\n",
       "    <tr>\n",
       "      <th>17</th>\n",
       "      <td>218.4</td>\n",
       "    </tr>\n",
       "    <tr>\n",
       "      <th>18</th>\n",
       "      <td>218.65</td>\n",
       "    </tr>\n",
       "    <tr>\n",
       "      <th>19</th>\n",
       "      <td>220.25</td>\n",
       "    </tr>\n",
       "    <tr>\n",
       "      <th>20</th>\n",
       "      <td>221.45</td>\n",
       "    </tr>\n",
       "    <tr>\n",
       "      <th>21</th>\n",
       "      <td>217.9</td>\n",
       "    </tr>\n",
       "    <tr>\n",
       "      <th>22</th>\n",
       "      <td>217.9</td>\n",
       "    </tr>\n",
       "    <tr>\n",
       "      <th>23</th>\n",
       "      <td>219.7</td>\n",
       "    </tr>\n",
       "    <tr>\n",
       "      <th>24</th>\n",
       "      <td>219.55</td>\n",
       "    </tr>\n",
       "    <tr>\n",
       "      <th>25</th>\n",
       "      <td>208</td>\n",
       "    </tr>\n",
       "    <tr>\n",
       "      <th>26</th>\n",
       "      <td>211.9</td>\n",
       "    </tr>\n",
       "    <tr>\n",
       "      <th>27</th>\n",
       "      <td>213.15</td>\n",
       "    </tr>\n",
       "    <tr>\n",
       "      <th>28</th>\n",
       "      <td>212.4</td>\n",
       "    </tr>\n",
       "  </tbody>\n",
       "</table>\n",
       "</div>"
      ],
      "text/plain": [
       "     Close\n",
       "0   194.55\n",
       "1   199.65\n",
       "2      205\n",
       "3   202.95\n",
       "4      201\n",
       "5   218.35\n",
       "6   212.35\n",
       "7   211.35\n",
       "8    208.5\n",
       "9   213.15\n",
       "10  214.05\n",
       "11   217.8\n",
       "12  214.85\n",
       "13  213.95\n",
       "14   213.2\n",
       "15  215.65\n",
       "16  217.95\n",
       "17   218.4\n",
       "18  218.65\n",
       "19  220.25\n",
       "20  221.45\n",
       "21   217.9\n",
       "22   217.9\n",
       "23   219.7\n",
       "24  219.55\n",
       "25     208\n",
       "26   211.9\n",
       "27  213.15\n",
       "28   212.4"
      ]
     },
     "execution_count": 25,
     "metadata": {},
     "output_type": "execute_result"
    }
   ],
   "source": [
    "actual_stock_price_test_oriA"
   ]
  },
  {
   "cell_type": "code",
   "execution_count": null,
   "id": "9ae752b1",
   "metadata": {},
   "outputs": [],
   "source": []
  },
  {
   "cell_type": "code",
   "execution_count": null,
   "id": "b2ad40e7",
   "metadata": {},
   "outputs": [],
   "source": []
  },
  {
   "cell_type": "code",
   "execution_count": 26,
   "id": "f775803e",
   "metadata": {},
   "outputs": [],
   "source": [
    "from stockFunctions import conversionSingle\n",
    "aTestNormTable=conversionSingle(y_test,[column])\n",
    "actual_stock_price_test_ori=Ms.inverse_transform(aTestNormTable)\n",
    "actual_stock_price_test_oriA=conversionSingle(actual_stock_price_test_ori,[column])"
   ]
  },
  {
   "cell_type": "code",
   "execution_count": 27,
   "id": "6374db28",
   "metadata": {},
   "outputs": [],
   "source": [
    "from stockFunctions import conversionSingle\n",
    "pTestNormTable=conversionSingle(y_pred,[column])\n",
    "predicted_stock_price_test_ori=Ms.inverse_transform(pTestNormTable)\n",
    "predicted_stock_price_test_oriP=conversionSingle(predicted_stock_price_test_ori,[column])"
   ]
  },
  {
   "cell_type": "code",
   "execution_count": 28,
   "id": "e2881d33",
   "metadata": {},
   "outputs": [
    {
     "data": {
      "image/png": "[encoded data removed]",
      "text/plain": [
       "<Figure size 720x360 with 1 Axes>"
      ]
     },
     "metadata": {
      "needs_background": "light"
     },
     "output_type": "display_data"
    }
   ],
   "source": [
    "from stockFunctions import graph\n",
    "graph(actual_stock_price_test_oriA,predicted_stock_price_test_oriP,\"Actual\",\"Predicted\",\"TataCoffee-Close-AR-Ori\",\"Days\",\"Prices\")"
   ]
  },
  {
   "cell_type": "code",
   "execution_count": 29,
   "id": "4b72a03b",
   "metadata": {},
   "outputs": [
    {
     "name": "stdout",
     "output_type": "stream",
     "text": [
      "RMSE-Testset: 4.96606303963486\n",
      "maPe-Testset: 0.018206719884773313\n"
     ]
    }
   ],
   "source": [
    "from stockFunctions import rmsemape\n",
    "rmsemape(actual_stock_price_test_oriA,predicted_stock_price_test_oriP)"
   ]
  },
  {
   "cell_type": "code",
   "execution_count": 30,
   "id": "e9e5ff09",
   "metadata": {},
   "outputs": [],
   "source": [
    "forecast=model_fit.predict(len(data1), len(data1)+3)"
   ]
  },
  {
   "cell_type": "code",
   "execution_count": 31,
   "id": "b4bb25ca",
   "metadata": {},
   "outputs": [
    {
     "data": {
      "text/plain": [
       "array([0.68269453, 0.68497716, 0.68723126, 0.68946136])"
      ]
     },
     "execution_count": 31,
     "metadata": {},
     "output_type": "execute_result"
    }
   ],
   "source": [
    "forecast"
   ]
  },
  {
   "cell_type": "code",
   "execution_count": 32,
   "id": "6c8d1126",
   "metadata": {},
   "outputs": [],
   "source": [
    "from stockFunctions import conversionSingle\n",
    "fTestNormTable=conversionSingle(forecast,[\"Closefore\"])\n",
    "forecast_stock_price_test_ori=Ms.inverse_transform(fTestNormTable)\n",
    "forecast_stock_price_test_oriF=conversionSingle(forecast_stock_price_test_ori,[\"Closefore\"])"
   ]
  },
  {
   "cell_type": "code",
   "execution_count": 33,
   "id": "e89d82d4",
   "metadata": {},
   "outputs": [
    {
     "data": {
      "text/html": [
       "<div>\n",
       "<style scoped>\n",
       "    .dataframe tbody tr th:only-of-type {\n",
       "        vertical-align: middle;\n",
       "    }\n",
       "\n",
       "    .dataframe tbody tr th {\n",
       "        vertical-align: top;\n",
       "    }\n",
       "\n",
       "    .dataframe thead th {\n",
       "        text-align: right;\n",
       "    }\n",
       "</style>\n",
       "<table border=\"1\" class=\"dataframe\">\n",
       "  <thead>\n",
       "    <tr style=\"text-align: right;\">\n",
       "      <th></th>\n",
       "      <th>Closefore</th>\n",
       "    </tr>\n",
       "  </thead>\n",
       "  <tbody>\n",
       "    <tr>\n",
       "      <th>0</th>\n",
       "      <td>218.634</td>\n",
       "    </tr>\n",
       "    <tr>\n",
       "      <th>1</th>\n",
       "      <td>218.757</td>\n",
       "    </tr>\n",
       "    <tr>\n",
       "      <th>2</th>\n",
       "      <td>218.879</td>\n",
       "    </tr>\n",
       "    <tr>\n",
       "      <th>3</th>\n",
       "      <td>219</td>\n",
       "    </tr>\n",
       "  </tbody>\n",
       "</table>\n",
       "</div>"
      ],
      "text/plain": [
       "  Closefore\n",
       "0   218.634\n",
       "1   218.757\n",
       "2   218.879\n",
       "3       219"
      ]
     },
     "execution_count": 33,
     "metadata": {},
     "output_type": "execute_result"
    }
   ],
   "source": [
    "forecast_stock_price_test_oriF"
   ]
  },
  {
   "cell_type": "code",
   "execution_count": 34,
   "id": "6273d5a9",
   "metadata": {},
   "outputs": [],
   "source": [
    "forecast_stock_price_test_oriF.to_csv(\"CloseAR.csv\",index=False)"
   ]
  },
  {
   "cell_type": "code",
   "execution_count": 37,
   "id": "d3b0a4c4",
   "metadata": {},
   "outputs": [
    {
     "data": {
      "text/plain": [
       "[<matplotlib.lines.Line2D at 0x24f0a19cd08>]"
      ]
     },
     "execution_count": 37,
     "metadata": {},
     "output_type": "execute_result"
    },
    {
     "data": {
      "image/png": "[encoded data removed]",
      "text/plain": [
       "<Figure size 720x360 with 1 Axes>"
      ]
     },
     "metadata": {
      "needs_background": "light"
     },
     "output_type": "display_data"
    }
   ],
   "source": [
    "import matplotlib.pyplot as plt\n",
    "plt.figure(figsize=(10,5))\n",
    "plt.plot(actual_stock_price_test_oriA[116:145], color = 'blue', label=\"Actual\")\n",
    "plt.plot(forecast_stock_price_test_oriF, color = 'red', label =\"Predicted\")"
   ]
  },
  {
   "cell_type": "code",
   "execution_count": null,
   "id": "0b417c1a",
   "metadata": {},
   "outputs": [],
   "source": []
  },
  {
   "cell_type": "code",
   "execution_count": null,
   "id": "8e69e4b3",
   "metadata": {},
   "outputs": [],
   "source": []
  },
  {
   "cell_type": "code",
   "execution_count": null,
   "id": "87404a12",
   "metadata": {},
   "outputs": [],
   "source": []
  },
  {
   "cell_type": "code",
   "execution_count": null,
   "id": "c0659d71",
   "metadata": {},
   "outputs": [],
   "source": []
  },
  {
   "cell_type": "code",
   "execution_count": null,
   "id": "11286e2e",
   "metadata": {},
   "outputs": [],
   "source": []
  },
  {
   "cell_type": "code",
   "execution_count": null,
   "id": "626de41c",
   "metadata": {},
   "outputs": [],
   "source": []
  }
 ],
 "metadata": {
  "kernelspec": {
   "display_name": "Python 3 (ipykernel)",
   "language": "python",
   "name": "python3"
  },
  "language_info": {
   "codemirror_mode": {
    "name": "ipython",
    "version": 3
   },
   "file_extension": ".py",
   "mimetype": "text/x-python",
   "name": "python",
   "nbconvert_exporter": "python",
   "pygments_lexer": "ipython3",
   "version": "3.10.14"
  }
 },
 "nbformat": 4,
 "nbformat_minor": 5
}
